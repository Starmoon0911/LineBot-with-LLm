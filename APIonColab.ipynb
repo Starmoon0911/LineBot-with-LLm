{
 "cells": [
  {
   "cell_type": "code",
   "execution_count": null,
   "metadata": {},
   "outputs": [
    {
     "ename": "",
     "evalue": "",
     "output_type": "error",
     "traceback": [
      "\u001b[1;31m執行具有 'Python 3.11.0' 的儲存格需要 ipykernel 套件。\n",
      "\u001b[1;31m執行下列命令以將 'ipykernel' 安裝到 Python 環境中。\n",
      "\u001b[1;31m命令: 'c:/Users/user/AppData/Local/Programs/Python/Python311/python.exe -m pip install ipykernel -U --user --force-reinstall'"
     ]
    }
   ],
   "source": [
    "!pip install flask pyngrok openai-whisper\n",
    "!apt-get update\n",
    "!apt-get install -y ffmpeg\n"
   ]
  },
  {
   "cell_type": "code",
   "execution_count": null,
   "metadata": {},
   "outputs": [],
   "source": [
    "import whisper\n",
    "\n",
    "model = whisper.load_model(\"base\")"
   ]
  },
  {
   "cell_type": "code",
   "execution_count": null,
   "metadata": {},
   "outputs": [],
   "source": [
    "from flask import Flask, request, jsonify\n",
    "from pyngrok import ngrok\n",
    "import whisper\n",
    "import os\n",
    "import tempfile\n",
    "\n",
    "# 創建 Flask 應用\n",
    "app = Flask(__name__)\n",
    "ngrok.set_auth_token(\"\") \n",
    "# 載入 Whisper 模型\n",
    "\n",
    "@app.route('/whisper', methods=['POST'])\n",
    "def upload_file():\n",
    "    if 'file' not in request.files:\n",
    "        return jsonify({\"status\": \"error\", \"message\": \"No file part\"}), 400\n",
    "    \n",
    "    file = request.files['file']\n",
    "    if file.filename == '':\n",
    "        return jsonify({\"status\": \"error\", \"message\": \"No selected file\"}), 400\n",
    "    \n",
    "    # 生成臨時文件\n",
    "    with tempfile.NamedTemporaryFile(delete=False, suffix=os.path.splitext(file.filename)[1]) as temp_file:\n",
    "        file.save(temp_file.name)\n",
    "        \n",
    "        # 使用 Whisper 進行轉錄\n",
    "        audio = whisper.load_audio(temp_file.name)\n",
    "        audio = whisper.pad_or_trim(audio)\n",
    "        mel = whisper.log_mel_spectrogram(audio).to(model.device)\n",
    "        _, probs = model.detect_language(mel)\n",
    "        detected_language = max(probs, key=probs.get)\n",
    "        \n",
    "        options = whisper.DecodingOptions()\n",
    "        result = whisper.decode(model, mel, options)\n",
    "        text = result.text\n",
    "\n",
    "        # 刪除臨時文件\n",
    "        os.remove(temp_file.name)\n",
    "\n",
    "        return jsonify({\"status\": \"success\", \"text\": text, \"language\": detected_language})\n",
    "\n",
    "if __name__ == '__main__':\n",
    "    # 開放端口 5000\n",
    "    public_url = ngrok.connect(5000)\n",
    "    print('Public URL:', public_url)\n",
    "    app.run(port=5000)\n"
   ]
  }
 ],
 "metadata": {
  "kernelspec": {
   "display_name": "Python 3",
   "language": "python",
   "name": "python3"
  },
  "language_info": {
   "name": "python",
   "version": "3.11.0"
  }
 },
 "nbformat": 4,
 "nbformat_minor": 2
}
